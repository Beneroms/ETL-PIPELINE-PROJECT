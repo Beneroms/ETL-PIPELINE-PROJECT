{
  "nbformat": 4,
  "nbformat_minor": 0,
  "metadata": {
    "colab": {
      "provenance": [],
      "authorship_tag": "ABX9TyNQixLyDvTmdd8kyPI1FmF5",
      "include_colab_link": true
    },
    "kernelspec": {
      "name": "python3",
      "display_name": "Python 3"
    },
    "language_info": {
      "name": "python"
    }
  },
  "cells": [
    {
      "cell_type": "markdown",
      "metadata": {
        "id": "view-in-github",
        "colab_type": "text"
      },
      "source": [
        "<a href=\"https://colab.research.google.com/github/Beneroms/ETL-PIPELINE-PROJECT/blob/main/ETL_PIPELINE_PROJECT.ipynb\" target=\"_parent\"><img src=\"https://colab.research.google.com/assets/colab-badge.svg\" alt=\"Open In Colab\"/></a>"
      ]
    },
    {
      "cell_type": "code",
      "execution_count": null,
      "metadata": {
        "id": "LGdjJmcrYrup"
      },
      "outputs": [],
      "source": [
        "\"\"\"\n",
        "Python Extract Transform Load Example\n",
        "\"\"\"\n",
        "\n",
        "# %%\n",
        "import requests\n",
        "import pandas as pd\n",
        "from sqlalchemy import create_engine"
      ]
    },
    {
      "cell_type": "code",
      "source": [
        "def extract()-> dict:\n",
        "    \"\"\" This API extracts data from\n",
        "    http://universities.hipolabs.com\n",
        "    \"\"\"\n",
        "    API_URL = \"http://universities.hipolabs.com/search?country=United+States\"\n",
        "    data = requests.get(API_URL).json()\n",
        "    return data"
      ],
      "metadata": {
        "id": "8bzrrPvwZPFL"
      },
      "execution_count": null,
      "outputs": []
    },
    {
      "cell_type": "code",
      "source": [
        "# Make the API request\n",
        "API_URL = \"http://universities.hipolabs.com/search?country=United+States\" # Define API_URL\n",
        "response = requests.get(API_URL)\n",
        "\n",
        "# Check the Content-Type header\n",
        "content_type = response.headers['Content-Type']\n",
        "print(f\"Content-Type: {content_type}\")  # Print the content type"
      ],
      "metadata": {
        "colab": {
          "base_uri": "https://localhost:8080/"
        },
        "id": "uIctZWz-eQAp",
        "outputId": "ca2b90b6-c494-4c66-9e3c-8e4a97ee2c9e"
      },
      "execution_count": null,
      "outputs": [
        {
          "output_type": "stream",
          "name": "stdout",
          "text": [
            "Content-Type: application/json\n"
          ]
        }
      ]
    },
    {
      "cell_type": "code",
      "source": [
        "def transform(data:dict) -> pd.DataFrame:\n",
        "    \"\"\" Transforms the dataset into desired structure and filters\"\"\"\n",
        "    df = pd.DataFrame(data)\n",
        "    print(f\"Total Number of universities from API {len(data)}\")\n",
        "    df = df[df[\"name\"].str.contains(\"California\")]\n",
        "    print(f\"Number of universities in california {len(df)}\")\n",
        "    df['domains'] = [','.join(map(str, l)) for l in df['domains']]\n",
        "    df['web_pages'] = [','.join(map(str, l)) for l in df['web_pages']]\n",
        "    df = df.reset_index(drop=True)\n",
        "    return df[[\"domains\",\"country\",\"web_pages\",\"name\"]]"
      ],
      "metadata": {
        "id": "sYiUAGcUieEF"
      },
      "execution_count": null,
      "outputs": []
    },
    {
      "cell_type": "code",
      "source": [
        "def load(df:pd.DataFrame)-> None:\n",
        "    \"\"\" Loads data into a sqllite database\"\"\"\n",
        "    disk_engine = create_engine('sqlite:///my_lite_store.db')\n",
        "    df.to_sql('cal_uni', disk_engine, if_exists='replace')\n"
      ],
      "metadata": {
        "id": "P50G8aUOkfUP"
      },
      "execution_count": null,
      "outputs": []
    },
    {
      "cell_type": "code",
      "source": [
        "# %%\n",
        "data = extract()\n",
        "df = transform(data)\n",
        "load(df)\n",
        "\n",
        "\n",
        "# %%"
      ],
      "metadata": {
        "colab": {
          "base_uri": "https://localhost:8080/"
        },
        "id": "vBdARObpK7WV",
        "outputId": "bf09c788-1596-46cc-8958-6ad566275d63"
      },
      "execution_count": null,
      "outputs": [
        {
          "output_type": "stream",
          "name": "stdout",
          "text": [
            "Total Number of universities from API 2334\n",
            "Number of universities in california 44\n"
          ]
        }
      ]
    },
    {
      "cell_type": "code",
      "source": [
        "\n",
        "data = extract()\n",
        "df = transform(data)\n",
        "load(df)\n",
        "\n"
      ],
      "metadata": {
        "colab": {
          "base_uri": "https://localhost:8080/"
        },
        "id": "MqdybP6sLUR5",
        "outputId": "bd1f3373-deac-47a9-d84c-21666a96bf48"
      },
      "execution_count": null,
      "outputs": [
        {
          "output_type": "stream",
          "name": "stdout",
          "text": [
            "Total Number of universities from API 2334\n",
            "Number of universities in california 44\n"
          ]
        }
      ]
    },
    {
      "cell_type": "code",
      "source": [
        "!apt-get install sqlite3\n"
      ],
      "metadata": {
        "id": "tVgJzGvoMcPf",
        "outputId": "d975ca7f-7862-4d5a-eade-9ba3e4cb75c9",
        "colab": {
          "base_uri": "https://localhost:8080/"
        }
      },
      "execution_count": null,
      "outputs": [
        {
          "output_type": "stream",
          "name": "stdout",
          "text": [
            "Reading package lists... Done\n",
            "Building dependency tree... Done\n",
            "Reading state information... Done\n",
            "Suggested packages:\n",
            "  sqlite3-doc\n",
            "The following NEW packages will be installed:\n",
            "  sqlite3\n",
            "0 upgraded, 1 newly installed, 0 to remove and 49 not upgraded.\n",
            "Need to get 768 kB of archives.\n",
            "After this operation, 1,873 kB of additional disk space will be used.\n",
            "Get:1 http://archive.ubuntu.com/ubuntu jammy-updates/main amd64 sqlite3 amd64 3.37.2-2ubuntu0.3 [768 kB]\n",
            "Fetched 768 kB in 0s (2,995 kB/s)\n",
            "Selecting previously unselected package sqlite3.\n",
            "(Reading database ... 123597 files and directories currently installed.)\n",
            "Preparing to unpack .../sqlite3_3.37.2-2ubuntu0.3_amd64.deb ...\n",
            "Unpacking sqlite3 (3.37.2-2ubuntu0.3) ...\n",
            "Setting up sqlite3 (3.37.2-2ubuntu0.3) ...\n",
            "Processing triggers for man-db (2.10.2-1) ...\n"
          ]
        }
      ]
    },
    {
      "cell_type": "code",
      "source": [
        "!sqlite3 --version\n"
      ],
      "metadata": {
        "colab": {
          "base_uri": "https://localhost:8080/"
        },
        "id": "votpV_RgNOil",
        "outputId": "b8d9c786-c4c2-45f8-d9f3-d69a8fa42c49"
      },
      "execution_count": 10,
      "outputs": [
        {
          "output_type": "stream",
          "name": "stdout",
          "text": [
            "3.37.2 2022-01-06 13:25:41 872ba256cbf61d9290b571c0e6d82a20c224ca3ad82971edc46b29818d5dalt1\n"
          ]
        }
      ]
    },
    {
      "cell_type": "code",
      "source": [
        "import sqlite3\n",
        "\n",
        "# Connect to the SQLite database\n",
        "conn = sqlite3.connect('my_lite_store.db')\n",
        "\n",
        "# Create a cursor object to interact with the database\n",
        "cursor = conn.cursor()\n",
        "\n",
        "# List all tables in the database\n",
        "cursor.execute(\"SELECT name FROM sqlite_master WHERE type='table';\")\n",
        "tables = cursor.fetchall()\n",
        "\n",
        "# Print the available tables\n",
        "print(\"Tables in the database:\", tables)\n",
        "\n",
        "# Close the connection when done\n",
        "conn.close()\n"
      ],
      "metadata": {
        "colab": {
          "base_uri": "https://localhost:8080/"
        },
        "id": "l5cOPxwON2R4",
        "outputId": "b2c1eb93-8531-40a6-a93a-affb95fd4b21"
      },
      "execution_count": 11,
      "outputs": [
        {
          "output_type": "stream",
          "name": "stdout",
          "text": [
            "Tables in the database: [('cal_uni',)]\n"
          ]
        }
      ]
    },
    {
      "cell_type": "code",
      "source": [
        "import sqlite3\n",
        "\n",
        "# Connect to the SQLite database\n",
        "conn = sqlite3.connect('my_lite_store.db')\n",
        "\n",
        "# Create a cursor object\n",
        "cursor = conn.cursor()\n",
        "\n",
        "# Fetch the first 5 rows from the 'cal_uni' table\n",
        "cursor.execute(\"SELECT * FROM cal_uni LIMIT 5;\")\n",
        "rows = cursor.fetchall()\n",
        "\n",
        "# Print the fetched rows\n",
        "print(\"Sample data from the 'cal_uni' table:\")\n",
        "for row in rows:\n",
        "    print(row)\n",
        "\n",
        "# Close the connection\n",
        "conn.close()\n"
      ],
      "metadata": {
        "colab": {
          "base_uri": "https://localhost:8080/"
        },
        "id": "UGDNTS-cOC6R",
        "outputId": "5eac5795-dc0a-492e-a05a-d1c1bbacc483"
      },
      "execution_count": 12,
      "outputs": [
        {
          "output_type": "stream",
          "name": "stdout",
          "text": [
            "Sample data from the 'cal_uni' table:\n",
            "(0, 'csuci.edu', 'United States', 'https://www.csuci.edu/', 'California State University Channel Islands')\n",
            "(1, 'calbaptist.edu', 'United States', 'http://www.calbaptist.edu/', 'California Baptist University')\n",
            "(2, 'calsouthern.edu', 'United States', 'http://www.calsouthern.edu/', 'California Southern University')\n",
            "(3, 'cpp.edu', 'United States', 'http://www.cpp.edu/', 'California Polytechnic State University, Pomona')\n",
            "(4, 'calcoast.edu', 'United States', 'http://www.calcoast.edu/', 'California Coast University')\n"
          ]
        }
      ]
    },
    {
      "cell_type": "code",
      "source": [
        "import pandas as pd\n",
        "import sqlite3\n",
        "\n",
        "# Connect to the SQLite database\n",
        "conn = sqlite3.connect('my_lite_store.db')\n",
        "\n",
        "# Query the 'cal_uni' table and load it into a pandas DataFrame\n",
        "df = pd.read_sql_query(\"SELECT * FROM cal_uni\", conn)\n",
        "\n",
        "# Show the first few rows of the DataFrame\n",
        "print(df.head())\n",
        "\n",
        "# Close the connection\n",
        "conn.close()\n"
      ],
      "metadata": {
        "colab": {
          "base_uri": "https://localhost:8080/"
        },
        "id": "bY4-vVjTOI-j",
        "outputId": "88493caf-f9b1-458b-a6b7-4895ff11c12f"
      },
      "execution_count": 13,
      "outputs": [
        {
          "output_type": "stream",
          "name": "stdout",
          "text": [
            "   index          domains        country                    web_pages  \\\n",
            "0      0        csuci.edu  United States       https://www.csuci.edu/   \n",
            "1      1   calbaptist.edu  United States   http://www.calbaptist.edu/   \n",
            "2      2  calsouthern.edu  United States  http://www.calsouthern.edu/   \n",
            "3      3          cpp.edu  United States          http://www.cpp.edu/   \n",
            "4      4     calcoast.edu  United States     http://www.calcoast.edu/   \n",
            "\n",
            "                                              name  \n",
            "0      California State University Channel Islands  \n",
            "1                    California Baptist University  \n",
            "2                   California Southern University  \n",
            "3  California Polytechnic State University, Pomona  \n",
            "4                      California Coast University  \n"
          ]
        }
      ]
    },
    {
      "cell_type": "code",
      "source": [
        "# List the tables in the SQLite database\n",
        "!sqlite3 my_lite_store.db .tables\n",
        "\n",
        "# View all records in the 'cal_uni' table\n",
        "!sqlite3 my_lite_store.db \"SELECT * FROM cal_uni LIMIT 5;\"\n"
      ],
      "metadata": {
        "colab": {
          "base_uri": "https://localhost:8080/"
        },
        "id": "cZdpDnNQOTG1",
        "outputId": "2bc33e3d-2f3b-4fef-88cc-8b5c284ee432"
      },
      "execution_count": 14,
      "outputs": [
        {
          "output_type": "stream",
          "name": "stdout",
          "text": [
            "cal_uni\n",
            "0|csuci.edu|United States|https://www.csuci.edu/|California State University Channel Islands\n",
            "1|calbaptist.edu|United States|http://www.calbaptist.edu/|California Baptist University\n",
            "2|calsouthern.edu|United States|http://www.calsouthern.edu/|California Southern University\n",
            "3|cpp.edu|United States|http://www.cpp.edu/|California Polytechnic State University, Pomona\n",
            "4|calcoast.edu|United States|http://www.calcoast.edu/|California Coast University\n"
          ]
        }
      ]
    }
  ]
}